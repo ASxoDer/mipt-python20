{
 "cells": [
  {
   "cell_type": "code",
   "execution_count": 1,
   "metadata": {
    "slideshow": {
     "slide_type": "skip"
    }
   },
   "outputs": [],
   "source": [
    "from IPython.core.interactiveshell import InteractiveShell\n",
    "InteractiveShell.ast_node_interactivity = \"all\""
   ]
  },
  {
   "cell_type": "markdown",
   "metadata": {
    "slideshow": {
     "slide_type": "slide"
    }
   },
   "source": [
    "# PYTHON 3\n",
    "## Introduction\n",
    "\n",
    "<img src=\"images/python-logo.png\" align=\"right\" style=\"height: 200px;\"/>\n",
    "\n",
    "### Denis Shaposhnikov\n",
    "\n",
    "\n",
    "MIPT 2020"
   ]
  },
  {
   "cell_type": "markdown",
   "metadata": {
    "slideshow": {
     "slide_type": "slide"
    }
   },
   "source": [
    "# Как сдать курс\n",
    "\n",
    "Активности:\n",
    "1. Контесты (5-7)\n",
    "    - 10 баллов за каждый\n",
    "    - 2 недели на контест\n",
    "2. Code Review (2)\n",
    "    - Работа над кодом в **несколько** итераций\n",
    "    - Есть обязательная часть\n",
    "    - Есть бонусная часть: до 2 доп.баллов\n",
    "    - 2 недели на первую (**рабочую!**) попытку\n",
    "    - 1 неделя на каждую следующую итерацию\n",
    "3. Лабораторная работа (1):\n",
    "    - 10 баллов\n",
    "    - Необходимо набрать хотя бы 1"
   ]
  },
  {
   "cell_type": "markdown",
   "metadata": {
    "slideshow": {
     "slide_type": "slide"
    }
   },
   "source": [
    "\n",
    "## 1. Если вы сдали 2 ревью и лаборатную работу\n",
    "### $\\min(10, \\lfloor9 * \\frac{\\text{contest} + \\text{lab}}{\\text{max_contest} + \\text{max_lab}} + \\text{review_bonus} \\rfloor)$ \n"
   ]
  },
  {
   "cell_type": "markdown",
   "metadata": {
    "slideshow": {
     "slide_type": "subslide"
    }
   },
   "source": [
    "_Например_, 6 контестов + 1 лаба  \n",
    "max_points = 70\n",
    "\n",
    "**Кейс 1:** Вы набрали 70 баллов и получили все бонусы за ревью:\n",
    "\n",
    "### $\\min(10, \\lfloor9 * \\frac{70}{70} + 4 \\rfloor) = \\min(10, 13) = 10$ \n",
    "\n",
    "**Кейс 2:** 35 баллов и по бонусному баллу за каждое ревью:\n",
    "\n",
    "###  $\\lfloor9 * \\frac{35}{70} + 2 \\rfloor = \\lfloor 6.5 \\rfloor = 6$ \n",
    "\n",
    "**Кейс 3:** 24 балла и ни одного бонусного балла:\n",
    "\n",
    "### $\\lfloor9 * \\frac{24}{70} + 0 \\rfloor = \\lfloor 3.0857.. \\rfloor = 3$ \n",
    "\n",
    "**Кейс 4:** 23 балла и ни одного бонусного балла:\n",
    "\n",
    "### $\\lfloor9 * \\frac{23}{70} + 0 \\rfloor = \\lfloor 2.9571.. \\rfloor = 2$ "
   ]
  },
  {
   "cell_type": "markdown",
   "metadata": {
    "slideshow": {
     "slide_type": "subslide"
    }
   },
   "source": [
    "## 2. Если вы сдали 1 ревью И лабораторную работу\n",
    "Верхняя грань предыдущей по пятибалльной шкале оценки\n",
    "\n",
    "**Кейс 1**: \n",
    "### $ отл(10) \\to хор(7)$   \n",
    "**Кейс 2**: \n",
    "### $ хор(6) \\to уд(4)$   \n",
    "**Кейс 3**: \n",
    "### $ уд(3) \\to неуд (2)$   \n",
    "**Кейс 4**: \n",
    "### $ неуд(2) \\to неуд (2)$   "
   ]
  },
  {
   "cell_type": "markdown",
   "metadata": {
    "slideshow": {
     "slide_type": "subslide"
    }
   },
   "source": [
    "## 3. Если вы сдали 0 ревью или не сдали  лабораторную работу (== набрали 0 баллов)\n",
    "<img src=\"images/wasted.jpg\" align=\"center\" style=\"height: 400px;\"/>"
   ]
  },
  {
   "cell_type": "markdown",
   "metadata": {
    "slideshow": {
     "slide_type": "slide"
    }
   },
   "source": [
    "# Intro\n",
    "\n",
    "<img src=\"images/guido.jpg\" align=\"right\" style=\"height: 400px;\"/>\n",
    "\n",
    "Язык Python разрабатывался Гвидо ван Россумом с 1989 г.\n",
    "Назван в честь популярного британского комедийного телешоу 1970-х \"Летающий цирк Монти Пайтона\"\n",
    "\n",
    "Мажорные версии:\n",
    "* Python 1.0 — январь 1994\n",
    "* Python 2.0 — 16.10.2000\n",
    "  * Python 2.7 - 3.07.2010\n",
    "* Python 3.0 — 3.12.2008\n",
    "  * Python 3.7.0 - 27.06.2018\n",
    "  * Python 3.8.0 - 14.10.2019\n",
    "  * Python 3.8.1 - 18.12.2019\n",
    " \n",
    "Сейчас поддерживаются Python 2.x и Python 3.x:\n",
    "* Синтаксически несовместимы\n",
    "* **Поддержка 2.x прекратится в апреле 2020**"
   ]
  },
  {
   "cell_type": "markdown",
   "metadata": {
    "slideshow": {
     "slide_type": "slide"
    }
   },
   "source": [
    "# Python vs C++:\n",
    "- Интерпретируемость vs Компилируемость\n",
    "- Сильная динамическая типизация \n",
    "- Управление памятью"
   ]
  },
  {
   "cell_type": "markdown",
   "metadata": {
    "slideshow": {
     "slide_type": "skip"
    }
   },
   "source": [
    "# Python vs C++:\n",
    "## Интерпретируемость vs Компилируемость\n",
    "- В компилируемых языках код программы нужно скомпилировать в т.н. исполняемый код. Этот код затем будет исполнять нечто, что ничего не знает про исходный язык программирования.\n",
    "\n",
    "- В интерпретируемом же языке исполнителем является сама программа, которая анализирует исходный код. Python - интерпретируемый язык (и исполнителем кода на нём является программа под названием \"python\"). Из этого следуют несколько важных свойств:\n",
    "    - Большинство ошибок возникает на этапе выполнения программы\n",
    "    - Более гибкий и плотный код"
   ]
  },
  {
   "cell_type": "markdown",
   "metadata": {
    "slideshow": {
     "slide_type": "skip"
    }
   },
   "source": [
    "## Сильная динамическая типизация \n",
    "- Сильная: У каждого объекта есть один конкретный тип; не бывает так, что мы не знаем, какого типа объект, или что объект относится к некоторому \"неопределённому типу\", который будет разрешён впоследствии, или что у нас есть объекты некого \"универсального\" типа.\n",
    "- Динамическая: Мы _почти_ никак не можем из исходного кода программы понять, какого типа объект в данном выражении. По крайней мере, не можем понять в точности. Чтобы это выяснить, нужно проинтерпретировать всю программу с самого начала до данного выражения.\n"
   ]
  },
  {
   "cell_type": "markdown",
   "metadata": {
    "slideshow": {
     "slide_type": "skip"
    }
   },
   "source": [
    "## Управление памятью\n",
    "Не нужно следить за выделяемой памятью и чистить за собой: объекты удаляются тогда, когда на них нет ссылок. Тем не менее, забить память все еще можно."
   ]
  },
  {
   "cell_type": "markdown",
   "metadata": {
    "slideshow": {
     "slide_type": "slide"
    }
   },
   "source": [
    "# Дзен Питона"
   ]
  },
  {
   "cell_type": "code",
   "execution_count": null,
   "metadata": {
    "slideshow": {
     "slide_type": "-"
    }
   },
   "outputs": [],
   "source": [
    "import this"
   ]
  },
  {
   "cell_type": "markdown",
   "metadata": {
    "slideshow": {
     "slide_type": "subslide"
    }
   },
   "source": [
    "# Дзен Питона"
   ]
  },
  {
   "cell_type": "code",
   "execution_count": 2,
   "metadata": {
    "slideshow": {
     "slide_type": "-"
    }
   },
   "outputs": [
    {
     "name": "stdout",
     "output_type": "stream",
     "text": [
      "The Zen of Python, by Tim Peters\n",
      "\n",
      "Beautiful is better than ugly.\n",
      "Explicit is better than implicit.\n",
      "Simple is better than complex.\n",
      "Complex is better than complicated.\n",
      "Flat is better than nested.\n",
      "Sparse is better than dense.\n",
      "Readability counts.\n",
      "Special cases aren't special enough to break the rules.\n",
      "Although practicality beats purity.\n",
      "Errors should never pass silently.\n",
      "Unless explicitly silenced.\n",
      "In the face of ambiguity, refuse the temptation to guess.\n",
      "There should be one-- and preferably only one --obvious way to do it.\n",
      "Although that way may not be obvious at first unless you're Dutch.\n",
      "Now is better than never.\n",
      "Although never is often better than *right* now.\n",
      "If the implementation is hard to explain, it's a bad idea.\n",
      "If the implementation is easy to explain, it may be a good idea.\n",
      "Namespaces are one honking great idea -- let's do more of those!\n"
     ]
    }
   ],
   "source": [
    "import this"
   ]
  },
  {
   "cell_type": "markdown",
   "metadata": {
    "slideshow": {
     "slide_type": "slide"
    }
   },
   "source": [
    "## Как запустить что-то на Python\n",
    "- Интерпретатор командной строки\n",
    "- Запуск интерпретации файла\n",
    "- Продвинутые интерпретаторы командной строки (ipython, ipython-notebook)\n",
    "- Базовый редактор (idle)\n",
    "- Продвинутые IDE (pycharm)"
   ]
  },
  {
   "cell_type": "markdown",
   "metadata": {
    "slideshow": {
     "slide_type": "notes"
    }
   },
   "source": [
    "Уходим в консоль  \n",
    "**NB**: Здесь предполагается некоторое свободное повествование. Написанное ниже скорее является опорой и примером того, что можно вводить в интерпретаторе"
   ]
  },
  {
   "cell_type": "markdown",
   "metadata": {
    "slideshow": {
     "slide_type": "slide"
    }
   },
   "source": [
    "## Булева алгебра\n",
    "\n",
    "A     | B     | A or B | A and B \n",
    "----- | ----- | ------ | -----\n",
    "False | False | False  | False\n",
    "False | True  | True   | False\n",
    "True  | False | True   | False\n",
    "True  | True  | True   | True "
   ]
  },
  {
   "cell_type": "code",
   "execution_count": 3,
   "metadata": {
    "slideshow": {
     "slide_type": "-"
    }
   },
   "outputs": [
    {
     "data": {
      "text/plain": [
       "False"
      ]
     },
     "execution_count": 3,
     "metadata": {},
     "output_type": "execute_result"
    }
   ],
   "source": [
    "True and False"
   ]
  },
  {
   "cell_type": "code",
   "execution_count": 4,
   "metadata": {},
   "outputs": [
    {
     "data": {
      "text/plain": [
       "True"
      ]
     },
     "execution_count": 4,
     "metadata": {},
     "output_type": "execute_result"
    }
   ],
   "source": [
    "True or False"
   ]
  },
  {
   "cell_type": "code",
   "execution_count": 5,
   "metadata": {},
   "outputs": [
    {
     "data": {
      "text/plain": [
       "False"
      ]
     },
     "execution_count": 5,
     "metadata": {},
     "output_type": "execute_result"
    }
   ],
   "source": [
    "not True"
   ]
  },
  {
   "cell_type": "markdown",
   "metadata": {
    "slideshow": {
     "slide_type": "subslide"
    }
   },
   "source": [
    "Применимо и к объектам!\n",
    "\n",
    "\n",
    "bool(A) | bool(B) | A or B | A and B \n",
    "------- | ------- | ------ | --- \n",
    "False   | -       | B      | A\n",
    "True    | -       | A      | B"
   ]
  },
  {
   "cell_type": "code",
   "execution_count": 6,
   "metadata": {
    "slideshow": {
     "slide_type": "-"
    }
   },
   "outputs": [
    {
     "data": {
      "text/plain": [
       "[]"
      ]
     },
     "execution_count": 6,
     "metadata": {},
     "output_type": "execute_result"
    }
   ],
   "source": [
    "[] and [1]"
   ]
  },
  {
   "cell_type": "code",
   "execution_count": 7,
   "metadata": {},
   "outputs": [
    {
     "data": {
      "text/plain": [
       "'spam'"
      ]
     },
     "execution_count": 7,
     "metadata": {},
     "output_type": "execute_result"
    }
   ],
   "source": [
    "'' or 'spam'"
   ]
  },
  {
   "cell_type": "code",
   "execution_count": 8,
   "metadata": {},
   "outputs": [],
   "source": [
    "None and True"
   ]
  },
  {
   "cell_type": "code",
   "execution_count": 9,
   "metadata": {},
   "outputs": [
    {
     "data": {
      "text/plain": [
       "False"
      ]
     },
     "execution_count": 9,
     "metadata": {},
     "output_type": "execute_result"
    }
   ],
   "source": [
    "None or False"
   ]
  }
 ],
 "metadata": {
  "celltoolbar": "Slideshow",
  "kernelspec": {
   "display_name": "Python 3",
   "language": "python",
   "name": "python3"
  },
  "language_info": {
   "codemirror_mode": {
    "name": "ipython",
    "version": 3
   },
   "file_extension": ".py",
   "mimetype": "text/x-python",
   "name": "python",
   "nbconvert_exporter": "python",
   "pygments_lexer": "ipython3",
   "version": "3.6.8"
  }
 },
 "nbformat": 4,
 "nbformat_minor": 2
}
